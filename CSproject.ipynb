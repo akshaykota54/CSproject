{
  "nbformat": 4,
  "nbformat_minor": 0,
  "metadata": {
    "colab": {
      "name": "CSproject.ipynb",
      "provenance": [],
      "collapsed_sections": [],
      "authorship_tag": "ABX9TyOvfs9Q5oYvEk+Y7bYep9CM",
      "include_colab_link": true
    },
    "kernelspec": {
      "name": "python3",
      "display_name": "Python 3"
    },
    "language_info": {
      "name": "python"
    }
  },
  "cells": [
    {
      "cell_type": "markdown",
      "metadata": {
        "id": "view-in-github",
        "colab_type": "text"
      },
      "source": [
        "<a href=\"https://colab.research.google.com/github/akshaykota54/CSproject/blob/main/CSproject.ipynb\" target=\"_parent\"><img src=\"https://colab.research.google.com/assets/colab-badge.svg\" alt=\"Open In Colab\"/></a>"
      ]
    },
    {
      "cell_type": "code",
      "metadata": {
        "colab": {
          "base_uri": "https://localhost:8080/"
        },
        "id": "SoJeIOxCVlM0",
        "outputId": "2d0f1427-97d3-440e-c122-ceaa4bd2166b"
      },
      "source": [
        "import requests\n",
        "from datetime import datetime\n",
        "api_key = '87d845b0b6cf29baa1a73cc34b067a95'\n",
        "location = input(\"Enter the city name: \")\n",
        "complete_api_link = \"https://api.openweathermap.org/data/2.5/weather?q=\"+location+\"&appid=\"+api_key\n",
        "api_link = requests.get(complete_api_link)\n",
        "api_data = api_link.json()\n",
        "temp_city = ((api_data['main']['temp']) - 273.15)\n",
        "weather_desc = str(api_data['weather'][0]['description'])\n",
        "hmdt = str(api_data['main']['humidity'])\n",
        "wind_spd = str(api_data['wind']['speed'])\n",
        "date_time = datetime.now().strftime(\"%d %b %Y | %I:%M:%S %p\")\n",
        "print (\"-------------------------------------------------------------\")\n",
        "print (\"Weather Stats for - {}  || {}\".format(location.upper(), date_time))\n",
        "print (\"-------------------------------------------------------------\")\n",
        "print (\"Current temperature is: {:.2f} deg C\".format(temp_city))\n",
        "print (\"Current weather desc  :\",weather_desc)\n",
        "print (\"Current Humidity      :\",hmdt, '%')\n",
        "print (\"Current wind speed    :\",wind_spd ,'kmph') \n",
        "\n",
        "report=open('weather_report.txt','w')\n",
        "report.write (\"-------------------------------------------------------------\"+\"\\n\")\n",
        "report.write (\"Weather Stats for - {}  || {}\".format(location.upper(), date_time)+\"\\n\")\n",
        "report.write (\"-------------------------------------------------------------\"+\"\\n\")\n",
        "report.write (\"Current temperature is: {:.2f} deg C\".format(temp_city)+\"\\n\")\n",
        "report.write (\"Current weather desc  :\"+weather_desc+'\\n')\n",
        "report.write (\"Current Humidity      :\"+hmdt+ '%'+\"\\n\")\n",
        "report.write (\"Current wind speed    :\"+wind_spd +'kmph'+\"\\n\")\n",
        "report.close()\n"
      ],
      "execution_count": 31,
      "outputs": [
        {
          "output_type": "stream",
          "text": [
            "Enter the city name: banswada\n",
            "-------------------------------------------------------------\n",
            "Weather Stats for - BANSWADA  || 23 Jun 2021 | 09:49:56 AM\n",
            "-------------------------------------------------------------\n",
            "Current temperature is: 32.23 deg C\n",
            "Current weather desc  : overcast clouds\n",
            "Current Humidity      : 46 %\n",
            "Current wind speed    : 4.46 kmph\n"
          ],
          "name": "stdout"
        }
      ]
    },
    {
      "cell_type": "code",
      "metadata": {
        "id": "dOpv9zOUVvhw"
      },
      "source": [
        ""
      ],
      "execution_count": null,
      "outputs": []
    }
  ]
}
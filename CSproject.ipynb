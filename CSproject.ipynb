{
  "nbformat": 4,
  "nbformat_minor": 0,
  "metadata": {
    "colab": {
      "name": "CSproject.ipynb",
      "provenance": [],
      "collapsed_sections": []
    },
    "kernelspec": {
      "name": "python3",
      "display_name": "Python 3"
    },
    "language_info": {
      "name": "python"
    }
  },
  "cells": [
    {
      "cell_type": "code",
      "metadata": {
        "id": "SoJeIOxCVlM0"
      },
      "source": [
        "import requests\n",
        "from datetime import datetime\n",
        "api_key = '87d845b0b6cf29baa1a73cc34b067a95'\n",
        "location = input(\"Enter the city name: \")\n",
        "complete_api_link = \"https://api.openweathermap.org/data/2.5/weather?q=\"+location+\"&appid=\"+api_key\n",
        "api_link = requests.get(complete_api_link)\n",
        "api_data = api_link.json()\n",
        "temp_city = ((api_data['main']['temp']) - 273.15)\n",
        "weather_desc = str(api_data['weather'][0]['description'])\n",
        "hmdt = str(api_data['main']['humidity'])\n",
        "wind_spd = str(api_data['wind']['speed'])\n",
        "date_time = datetime.now().strftime(\"%d %b %Y | %I:%M:%S %p\")\n",
        "print (\"-------------------------------------------------------------\")\n",
        "print (\"Weather Stats for - {}  || {}\".format(location.upper(), date_time))\n",
        "print (\"-------------------------------------------------------------\")\n",
        "print (\"Current temperature is: {:.2f} deg C\".format(temp_city))\n",
        "print (\"Current weather desc  :\",weather_desc)\n",
        "print (\"Current Humidity      :\",hmdt, '%')\n",
        "print (\"Current wind speed    :\",wind_spd ,'kmph') \n",
        "\n",
        "report=open('weather_report.txt','w')\n",
        "report.write (\"-------------------------------------------------------------\"+\"\\n\")\n",
        "report.write (\"Weather Stats for - {}  || {}\".format(location.upper(), date_time)+\"\\n\")\n",
        "report.write (\"-------------------------------------------------------------\"+\"\\n\")\n",
        "report.write (\"Current temperature is: {:.2f} deg C\".format(temp_city)+\"\\n\")\n",
        "report.write (\"Current weather desc  :\"+weather_desc+'\\n')\n",
        "report.write (\"Current Humidity      :\"+hmdt+ '%'+\"\\n\")\n",
        "report.write (\"Current wind speed    :\"+wind_spd +'kmph'+\"\\n\")\n",
        "report.close()\n"
      ],
      "execution_count": null,
      "outputs": []
    },
    {
      "cell_type": "code",
      "metadata": {
        "id": "dOpv9zOUVvhw"
      },
      "source": [
        ""
      ],
      "execution_count": null,
      "outputs": []
    }
  ]
}